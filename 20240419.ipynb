{
  "nbformat": 4,
  "nbformat_minor": 0,
  "metadata": {
    "colab": {
      "provenance": [],
      "authorship_tag": "ABX9TyOzEbRm0XhuGqAK5VRbFwMZ",
      "include_colab_link": true
    },
    "kernelspec": {
      "name": "python3",
      "display_name": "Python 3"
    },
    "language_info": {
      "name": "python"
    }
  },
  "cells": [
    {
      "cell_type": "markdown",
      "metadata": {
        "id": "view-in-github",
        "colab_type": "text"
      },
      "source": [
        "<a href=\"https://colab.research.google.com/github/GoldKodo/aiphython/blob/main/20240419.ipynb\" target=\"_parent\"><img src=\"https://colab.research.google.com/assets/colab-badge.svg\" alt=\"Open In Colab\"/></a>"
      ]
    },
    {
      "cell_type": "code",
      "execution_count": null,
      "metadata": {
        "id": "zjUFl45Q24tZ"
      },
      "outputs": [],
      "source": [
        "#N개의 정수가 주어진다. 이때, 최솟값과 최댓값을 구하는 프로그램을 작성하시오.\n",
        "#첫째 줄에 정수의 개수 N (1 ≤ N ≤ 1,000,000)이 주어진다. 둘째 줄에는 N개의 정수를 공백으로 구분해서 주어진다.\n",
        "\n",
        "N = int(input())\n",
        "numbers = list(map(int, input().split()))      #map은 문자열을 숫자열로 만들고, 함수 안의 맨 앞에 오는 int는 그 리스트들을 정수를 만들어줌. 여기서 int 대신 float면 실수가 나옴. .split은 () 안의 구분자를 기준으로 나누어 리스트로 변환시키는 역할\n",
        "\n",
        "min_num = min(numbers)\n",
        "max_num = max(numbers)\n",
        "\n",
        "#첫째 줄에 주어진 정수 N개의 최솟값과 최댓값을 공백으로 구분해 출력한다.\n",
        "print(min_num)\n",
        "print(max_num)"
      ]
    },
    {
      "cell_type": "code",
      "source": [
        "#A,B,C를 입력받고 그 중에서 두번쨰로 큰 정수를 구하시오\n",
        "#첫째 줄에 세 정수 A, B, C가 공백으로 구분되어 주어진다\n",
        "\n",
        "A,B,C = map(int, input().split())\n",
        "\n",
        "secbig = []\n",
        "secbig.append(A)\n",
        "secbig.append(B)\n",
        "secbig.append(C)\n",
        "\n",
        "sort_sb = sorted(secbig)      #sorted 는 내림차순으로 정리해주는 함수\n",
        "sec_big = sort_sb[1]          #sorted 된 리스트에서의 서순을 입력해주면 몇번째로 큰 함수인지 알 수 있다\n",
        "print(sec_big)\n",
        "\n"
      ],
      "metadata": {
        "id": "AT2RqeEQ6_UX"
      },
      "execution_count": null,
      "outputs": []
    },
    {
      "cell_type": "code",
      "source": [
        "txt = \"apple#banana#cherry#orange\"\n",
        "txtsplit = txt.split(\"#\")\n",
        "print(txtsplit)"
      ],
      "metadata": {
        "colab": {
          "base_uri": "https://localhost:8080/"
        },
        "id": "inFKcecSFipM",
        "outputId": "97a03376-5ee5-41f2-86f8-39f15c535204"
      },
      "execution_count": 17,
      "outputs": [
        {
          "output_type": "stream",
          "name": "stdout",
          "text": [
            "['apple', 'banana', 'cherry', 'orange']\n"
          ]
        }
      ]
    },
    {
      "cell_type": "code",
      "source": [
        "txt = ['Python', 'Java', 'Ruby']\n",
        "B = \"->\".join(txt)\n",
        "print(B)"
      ],
      "metadata": {
        "colab": {
          "base_uri": "https://localhost:8080/"
        },
        "id": "Y9kcYrgOGVCT",
        "outputId": "3fd9af49-9f4e-4b0a-cd9c-a99947b82e4e"
      },
      "execution_count": 26,
      "outputs": [
        {
          "output_type": "stream",
          "name": "stdout",
          "text": [
            "Python->Java->Ruby\n"
          ]
        }
      ]
    },
    {
      "cell_type": "code",
      "source": [
        "# 0부터 9 중에 짝수에 해당하는 리스트를 작성하는 것\n",
        "number_list = [ x for x in range(10) if x % 2 == 0]\n",
        "print(number_list)"
      ],
      "metadata": {
        "colab": {
          "base_uri": "https://localhost:8080/"
        },
        "id": "4qIoRMHJJHHq",
        "outputId": "1cec3192-a9b8-4d2c-a4d7-8d3d3746d1b2"
      },
      "execution_count": 30,
      "outputs": [
        {
          "output_type": "stream",
          "name": "stdout",
          "text": [
            "[0, 2, 4, 6, 8]\n"
          ]
        }
      ]
    },
    {
      "cell_type": "code",
      "source": [
        "# S로 시작하는 도시명으로 리스트를 생성\n",
        "cities =  [\"Seoul\", \"New York\", \"London\", \"Shanghai\", \"Paris\", \"Tokyo\"]\n",
        "new_list = [city for city in cities if city.startswith('S')]\n",
        "print(new_list)"
      ],
      "metadata": {
        "colab": {
          "base_uri": "https://localhost:8080/"
        },
        "id": "ODSPi-TpJjqx",
        "outputId": "b2b3ce90-3273-4307-87b8-b25d9e9dee8b"
      },
      "execution_count": 50,
      "outputs": [
        {
          "output_type": "stream",
          "name": "stdout",
          "text": [
            "['Seoul', 'Shanghai']\n"
          ]
        }
      ]
    },
    {
      "cell_type": "code",
      "source": [
        "#이름 없는 함수를 정의할 때 lambda 사용\n",
        "#double = lambda x: x*2\n",
        "#print(double(5)) 하면 10 이 나오겠지\n",
        "\n",
        "numbers = [1, 2, 3, 4, 5, 6, 7, 8, 9, 10]\n",
        "\n",
        "A = list(filter(lambda x: x%2 == 0, numbers))   #filter(조건, 리스트) 하면 리스트에서 조건에 맞는 애들을 걸러서 뽑아낼 수 있음\n",
        "print(A)    #리스트에서 받아서 리스트로 뽑아내야 하니까 a를 리스트로 만들어야 해서 list함수 사용, 이후 filter(x,y) 로 조건 만들어서 거름"
      ],
      "metadata": {
        "colab": {
          "base_uri": "https://localhost:8080/"
        },
        "id": "W9oRd1U4PoIL",
        "outputId": "cfffb2d8-e2bf-491b-e39d-5ce4682f0338"
      },
      "execution_count": 55,
      "outputs": [
        {
          "output_type": "stream",
          "name": "stdout",
          "text": [
            "[2, 4, 6, 8, 10]\n"
          ]
        }
      ]
    },
    {
      "cell_type": "code",
      "source": [
        "#enumarate 사용\n",
        "\n",
        "A = ['Python', 'Java', 'JavaScript']\n",
        "for idx, name in enumerate(A):\n",
        "  print(idx, name)"
      ],
      "metadata": {
        "colab": {
          "base_uri": "https://localhost:8080/"
        },
        "id": "M1qSpO-kQxY6",
        "outputId": "0c993ed0-63d3-4b04-be3b-3b9477fb2d9f"
      },
      "execution_count": 57,
      "outputs": [
        {
          "output_type": "stream",
          "name": "stdout",
          "text": [
            "0 Python\n",
            "1 Java\n",
            "2 JavaScript\n"
          ]
        }
      ]
    },
    {
      "cell_type": "code",
      "source": [
        "A = ['Python', 'Java', 'JavaScript']\n",
        "B = [(idx, name) for idx, name in enumerate(A,1)]   # B = [] 대괄호로 묶어서 리스트로 만들고, 리스트 안에서 어떻게 나타낼지를 (idx, name) 으로 묶은다음 이를 변수로 지정하고 enumrate 사용해서 A에서 뽑아냄\n",
        "print(B)"
      ],
      "metadata": {
        "colab": {
          "base_uri": "https://localhost:8080/"
        },
        "id": "-k1fcokZRdVq",
        "outputId": "598b0942-7acc-4416-f13c-1141afa482b7"
      },
      "execution_count": 64,
      "outputs": [
        {
          "output_type": "stream",
          "name": "stdout",
          "text": [
            "[(1, 'Python'), (2, 'Java'), (3, 'JavaScript')]\n"
          ]
        }
      ]
    },
    {
      "cell_type": "code",
      "source": [
        "# 학생들의 성적이 숫자 리스트로 표현되어 있고, 이를 등급(A, B, C, D, F)으로 변환\n",
        "scores = [88, 92, 78, 60, 75, 95]\n",
        "\n",
        "def convert_to_grade(score):\n",
        "  if score >= 90:\n",
        "    return 'A'\n",
        "  elif score >= 80:\n",
        "    return 'B'\n",
        "  elif score >= 70:\n",
        "    return 'C'\n",
        "  elif score >= 60:\n",
        "    return 'D'\n",
        "  else:\n",
        "    return 'F'\n",
        "\n",
        "grades = map(convert_to_grade, scores)   # map(적용할 함수, 받아올 리스트)\n",
        "print(list(grades))      #리스트를 받았으니 리스트로 치환해서 출력해야함"
      ],
      "metadata": {
        "colab": {
          "base_uri": "https://localhost:8080/"
        },
        "id": "rnL3aZYxTnEz",
        "outputId": "81a55789-7191-403f-b5c8-57a912ea3df5"
      },
      "execution_count": 78,
      "outputs": [
        {
          "output_type": "stream",
          "name": "stdout",
          "text": [
            "['B', 'A', 'C', 'D', 'C', 'A']\n"
          ]
        }
      ]
    },
    {
      "cell_type": "code",
      "source": [
        "#나이 리스트 중에서 18세 이상 나이만 추출\n",
        "\n",
        "ages = [5, 12, 17, 18, 24, 32]\n",
        "\n",
        "A = list(filter(lambda x: x>=18, ages))\n",
        "print(A)"
      ],
      "metadata": {
        "colab": {
          "base_uri": "https://localhost:8080/"
        },
        "id": "JJhVd8ROVXwB",
        "outputId": "8e6abe71-b762-430e-caf1-5156dc5d49c4"
      },
      "execution_count": 80,
      "outputs": [
        {
          "output_type": "stream",
          "name": "stdout",
          "text": [
            "[18, 24, 32]\n"
          ]
        }
      ]
    }
  ]
}