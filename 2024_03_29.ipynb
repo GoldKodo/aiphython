{
  "nbformat": 4,
  "nbformat_minor": 0,
  "metadata": {
    "colab": {
      "provenance": [],
      "authorship_tag": "ABX9TyMoQ3mbgyLhf1MgrbLb6M8L",
      "include_colab_link": true
    },
    "kernelspec": {
      "name": "python3",
      "display_name": "Python 3"
    },
    "language_info": {
      "name": "python"
    }
  },
  "cells": [
    {
      "cell_type": "markdown",
      "metadata": {
        "id": "view-in-github",
        "colab_type": "text"
      },
      "source": [
        "<a href=\"https://colab.research.google.com/github/GoldKodo/aiphython/blob/main/2024_03_29.ipynb\" target=\"_parent\"><img src=\"https://colab.research.google.com/assets/colab-badge.svg\" alt=\"Open In Colab\"/></a>"
      ]
    },
    {
      "cell_type": "code",
      "source": [
        "a= input(\"몇 분 입니까?\")\n",
        "minutes = int(a)\n",
        "hours = minutes // 60\n",
        "rem_minutes = minutes % 60\n",
        "print(\" {}시간 {}분 입니다\" .format(hours, rem_minutes))"
      ],
      "metadata": {
        "colab": {
          "base_uri": "https://localhost:8080/"
        },
        "id": "wbJbZidQBzZC",
        "outputId": "34c4ea61-d520-400c-a177-0b7f16f3626f"
      },
      "execution_count": 2,
      "outputs": [
        {
          "output_type": "stream",
          "name": "stdout",
          "text": [
            "몇 분 입니까?500\n",
            " 8시간 20분 입니다\n"
          ]
        }
      ]
    },
    {
      "cell_type": "code",
      "source": [
        "a = input(\"몇 도입니까?\")\n",
        "C = float(a)\n",
        "F = C * 1.8 + 32\n",
        "print(\"섭씨 %5.2f도는 화씨 %5.2f도 입니다\" %(C,F))"
      ],
      "metadata": {
        "colab": {
          "base_uri": "https://localhost:8080/"
        },
        "id": "1itABEGtECwo",
        "outputId": "9b133c67-a67f-43db-89c4-446a914ba9da"
      },
      "execution_count": 11,
      "outputs": [
        {
          "output_type": "stream",
          "name": "stdout",
          "text": [
            "몇 도입니까?31\n",
            "섭씨 31.00도는 화씨 87.80도 입니다\n"
          ]
        }
      ]
    },
    {
      "cell_type": "code",
      "source": [
        "a = float(input(\"원의 반지름은?\"))\n",
        "PI = 3.14\n",
        "dool = 2*  a * PI\n",
        "myeon = PI * (a ** 2)\n",
        "print(\"반지름이 {:.1f}인 원의 둘레는 {:.1f}이고 면적은 {:.1f}입니다.\" .format(a, dool, myeon))"
      ],
      "metadata": {
        "colab": {
          "base_uri": "https://localhost:8080/"
        },
        "id": "dPYyCD-HF-2o",
        "outputId": "0fd1f777-55af-4f98-e45b-3ba8471ab20c"
      },
      "execution_count": 13,
      "outputs": [
        {
          "output_type": "stream",
          "name": "stdout",
          "text": [
            "원의 반지름은?10\n",
            "반지름이 10.0인 원의 둘레는 62.8이고 면적은 314.0입니다.\n"
          ]
        }
      ]
    }
  ]
}