{
  "nbformat": 4,
  "nbformat_minor": 0,
  "metadata": {
    "colab": {
      "provenance": [],
      "authorship_tag": "ABX9TyNo6wRD3Cz9deQ31bpqTJE6",
      "include_colab_link": true
    },
    "kernelspec": {
      "name": "python3",
      "display_name": "Python 3"
    },
    "language_info": {
      "name": "python"
    }
  },
  "cells": [
    {
      "cell_type": "markdown",
      "metadata": {
        "id": "view-in-github",
        "colab_type": "text"
      },
      "source": [
        "<a href=\"https://colab.research.google.com/github/GoldKodo/aiphython/blob/main/20240524.ipynb\" target=\"_parent\"><img src=\"https://colab.research.google.com/assets/colab-badge.svg\" alt=\"Open In Colab\"/></a>"
      ]
    },
    {
      "cell_type": "code",
      "execution_count": 2,
      "metadata": {
        "colab": {
          "base_uri": "https://localhost:8080/"
        },
        "id": "5JHF5rDqLjBR",
        "outputId": "dfc557a5-a462-43cf-c681-b9a4cd2ff0e4"
      },
      "outputs": [
        {
          "output_type": "stream",
          "name": "stdout",
          "text": [
            "<class 'pandas.core.frame.DataFrame'>\n",
            "RangeIndex: 150 entries, 0 to 149\n",
            "Data columns (total 5 columns):\n",
            " #   Column        Non-Null Count  Dtype  \n",
            "---  ------        --------------  -----  \n",
            " 0   sepal_length  150 non-null    float64\n",
            " 1   sepal_width   150 non-null    float64\n",
            " 2   petal_length  150 non-null    float64\n",
            " 3   petal_width   150 non-null    float64\n",
            " 4   species       150 non-null    object \n",
            "dtypes: float64(4), object(1)\n",
            "memory usage: 6.0+ KB\n"
          ]
        },
        {
          "output_type": "execute_result",
          "data": {
            "text/plain": [
              "sepal_length    0\n",
              "sepal_width     0\n",
              "petal_length    0\n",
              "petal_width     0\n",
              "species         0\n",
              "dtype: int64"
            ]
          },
          "metadata": {},
          "execution_count": 2
        }
      ],
      "source": [
        "import pandas as pd\n",
        "df= pd.read_csv('iris.csv')\n",
        "df.info()\n",
        "\n",
        "# 칼럼별 결측치의 계수 확인\n",
        "df.isnull().sum()\n",
        "df.isna().sum()"
      ]
    },
    {
      "cell_type": "code",
      "source": [
        "###결측치 처리\n",
        "#결측치 포함 행 제거\n",
        "df.dropna(how='any')\n",
        "#결측치 채우가\n",
        "df.fillna(0, inplace=True)\n",
        "#결측치 변경\n",
        "df.replace(np.nan,0)\n",
        "\n",
        "###중복값 처리\n",
        "import pandas as pd\n",
        "df = pd.read_csv('iris.csv')\n",
        "df[df.duplicated()]\n",
        "#중복값 제거\n",
        "df2= df.drop_dulicates()"
      ],
      "metadata": {
        "id": "nIt6u5w-L5XZ"
      },
      "execution_count": null,
      "outputs": []
    },
    {
      "cell_type": "code",
      "source": [
        "# 이상치 탐색\n",
        "import pandas as pd\n",
        "df = pd.read_csv('iris.csv')\n",
        "df.describe()\n",
        "# sorting\n",
        "iris_data.sort_values(by=['petal_length’,], ascending=False)\n",
        "# 시각화\n",
        "plt.scatter(x = iris_data['petal_length'], y = iris_data['petal_width'])\n",
        "plt.show"
      ],
      "metadata": {
        "colab": {
          "base_uri": "https://localhost:8080/",
          "height": 110
        },
        "id": "UsNPeBrRM2C2",
        "outputId": "2e9f4e76-91b3-4a88-9cad-960db1d425ca"
      },
      "execution_count": 7,
      "outputs": [
        {
          "output_type": "error",
          "ename": "SyntaxError",
          "evalue": "unterminated string literal (detected at line 6) (<ipython-input-7-6bb94e435fb4>, line 6)",
          "traceback": [
            "\u001b[0;36m  File \u001b[0;32m\"<ipython-input-7-6bb94e435fb4>\"\u001b[0;36m, line \u001b[0;32m6\u001b[0m\n\u001b[0;31m    iris_data.sort_values(by=['petal_length’,], ascending=False)\u001b[0m\n\u001b[0m                              ^\u001b[0m\n\u001b[0;31mSyntaxError\u001b[0m\u001b[0;31m:\u001b[0m unterminated string literal (detected at line 6)\n"
          ]
        }
      ]
    },
    {
      "cell_type": "code",
      "source": [
        "#이상치 확인 및 정제 boxplot\n",
        "import pandas as pd\n",
        "import matplotlib.pyplot as plt\n",
        "from sklearn.datasets import load_wine\n",
        "wine_load = load_wine()\n",
        "wine = pd.DataFrame(wine_load.data, columns=wine_load.feature_names)\n",
        "wine['Class'] = wine_load.target\n",
        "wine['Class'] = wine['Class'].map({0: 'class_0', 1:'class_1', 2:'class_2'})\n",
        "\n",
        "import matplotlib.pyplot as plt\n",
        "plt.boxplot(wine['color_intensity'], whis=1.5)\n",
        "plt.title('color_intensity')\n",
        "plt.show"
      ],
      "metadata": {
        "colab": {
          "base_uri": "https://localhost:8080/",
          "height": 622
        },
        "collapsed": true,
        "id": "umbrHe-AO7NW",
        "outputId": "850ccf82-aef6-4462-c8c0-413de84b36ac"
      },
      "execution_count": 9,
      "outputs": [
        {
          "output_type": "execute_result",
          "data": {
            "text/plain": [
              "<function matplotlib.pyplot.show(close=None, block=None)>"
            ],
            "text/html": [
              "<div style=\"max-width:800px; border: 1px solid var(--colab-border-color);\"><style>\n",
              "      pre.function-repr-contents {\n",
              "        overflow-x: auto;\n",
              "        padding: 8px 12px;\n",
              "        max-height: 500px;\n",
              "      }\n",
              "\n",
              "      pre.function-repr-contents.function-repr-contents-collapsed {\n",
              "        cursor: pointer;\n",
              "        max-height: 100px;\n",
              "      }\n",
              "    </style>\n",
              "    <pre style=\"white-space: initial; background:\n",
              "         var(--colab-secondary-surface-color); padding: 8px 12px;\n",
              "         border-bottom: 1px solid var(--colab-border-color);\"><b>matplotlib.pyplot.show</b><br/>def show(*args, **kwargs)</pre><pre class=\"function-repr-contents function-repr-contents-collapsed\" style=\"\"><a class=\"filepath\" style=\"display:none\" href=\"#\">/usr/local/lib/python3.10/dist-packages/matplotlib/pyplot.py</a>Display all open figures.\n",
              "\n",
              "Parameters\n",
              "----------\n",
              "block : bool, optional\n",
              "    Whether to wait for all figures to be closed before returning.\n",
              "\n",
              "    If `True` block and run the GUI main loop until all figure windows\n",
              "    are closed.\n",
              "\n",
              "    If `False` ensure that all figure windows are displayed and return\n",
              "    immediately.  In this case, you are responsible for ensuring\n",
              "    that the event loop is running to have responsive figures.\n",
              "\n",
              "    Defaults to True in non-interactive mode and to False in interactive\n",
              "    mode (see `.pyplot.isinteractive`).\n",
              "\n",
              "See Also\n",
              "--------\n",
              "ion : Enable interactive mode, which shows / updates the figure after\n",
              "      every plotting command, so that calling ``show()`` is not necessary.\n",
              "ioff : Disable interactive mode.\n",
              "savefig : Save the figure to an image file instead of showing it on screen.\n",
              "\n",
              "Notes\n",
              "-----\n",
              "**Saving figures to file and showing a window at the same time**\n",
              "\n",
              "If you want an image file as well as a user interface window, use\n",
              "`.pyplot.savefig` before `.pyplot.show`. At the end of (a blocking)\n",
              "``show()`` the figure is closed and thus unregistered from pyplot. Calling\n",
              "`.pyplot.savefig` afterwards would save a new and thus empty figure. This\n",
              "limitation of command order does not apply if the show is non-blocking or\n",
              "if you keep a reference to the figure and use `.Figure.savefig`.\n",
              "\n",
              "**Auto-show in jupyter notebooks**\n",
              "\n",
              "The jupyter backends (activated via ``%matplotlib inline``,\n",
              "``%matplotlib notebook``, or ``%matplotlib widget``), call ``show()`` at\n",
              "the end of every cell by default. Thus, you usually don&#x27;t have to call it\n",
              "explicitly there.</pre>\n",
              "      <script>\n",
              "      if (google.colab.kernel.accessAllowed && google.colab.files && google.colab.files.view) {\n",
              "        for (const element of document.querySelectorAll('.filepath')) {\n",
              "          element.style.display = 'block'\n",
              "          element.onclick = (event) => {\n",
              "            event.preventDefault();\n",
              "            event.stopPropagation();\n",
              "            google.colab.files.view(element.textContent, 401);\n",
              "          };\n",
              "        }\n",
              "      }\n",
              "      for (const element of document.querySelectorAll('.function-repr-contents')) {\n",
              "        element.onclick = (event) => {\n",
              "          event.preventDefault();\n",
              "          event.stopPropagation();\n",
              "          element.classList.toggle('function-repr-contents-collapsed');\n",
              "        };\n",
              "      }\n",
              "      </script>\n",
              "      </div>"
            ]
          },
          "metadata": {},
          "execution_count": 9
        },
        {
          "output_type": "display_data",
          "data": {
            "text/plain": [
              "<Figure size 640x480 with 1 Axes>"
            ],
            "image/png": "[encoded data removed]"
          },
          "metadata": {}
        }
      ]
    },
    {
      "cell_type": "code",
      "source": [
        "#이상치 확인 및 정제 IQR 공식\n",
        "import numpy as np\n",
        "quartile_1, quartile_3 = np.percentile(wine['color_intensity'], [25,75])\n",
        "iqr = quartile_3 - quartile_1\n",
        "upper_whis = quartile_3 + 1.5*iqr\n",
        "lower_whis = quartile_1 - 1.5*iqr\n",
        "outliers = wine['color_intensity'][(wine['color_intensity’] > upper_whis)|(wine['color_intensity'] < lower_whis)]\n",
        "print(outliers)\n",
        "print(outliers.index)"
      ],
      "metadata": {
        "colab": {
          "base_uri": "https://localhost:8080/",
          "height": 110
        },
        "id": "NV1y2PspQAwH",
        "outputId": "8ae98ebc-a078-477f-e22b-50413a8a29ff"
      },
      "execution_count": 12,
      "outputs": [
        {
          "output_type": "error",
          "ename": "SyntaxError",
          "evalue": "unterminated string literal (detected at line 7) (<ipython-input-12-083befa86e35>, line 7)",
          "traceback": [
            "\u001b[0;36m  File \u001b[0;32m\"<ipython-input-12-083befa86e35>\"\u001b[0;36m, line \u001b[0;32m7\u001b[0m\n\u001b[0;31m    outliers = wine['color_intensity'][(wine['color_intensity’] > upper_whis)|(wine['color_intensity'] < lower_whis)]\u001b[0m\n\u001b[0m                                                                                                    ^\u001b[0m\n\u001b[0;31mSyntaxError\u001b[0m\u001b[0;31m:\u001b[0m unterminated string literal (detected at line 7)\n"
          ]
        }
      ]
    },
    {
      "cell_type": "code",
      "source": [
        "#펭귄데이터 이상치 확인 정제\n",
        "import pandas as pd\n",
        "df = pd.read_csv('penguins.csv')\n",
        "df.info()\n",
        "\n",
        "#중복값 확인 및 제거\n",
        "df[df.duplicated()]\n",
        "df2 = df.drop_duplicates()\n",
        "\n",
        "#결측치 채우고 확인\n",
        "df2.fillna(0, inplace=True)\n",
        "\n",
        "#이상치 확인\n",
        "df2.describe()\n",
        "df2.sort_values(by = ['body_mass_g'], ascending=False)\n",
        "\n",
        "\n",
        "#시각화\n",
        "#plt.scatter(x = df2['bill_length_mm'], y = df2['body_mass_g'])\n",
        "#plt.show\n",
        "\n",
        "#이상치 확인 및 정제\n",
        "import numpy as np\n",
        "quartile_1, quartile_3 = np.percentile(df2['body_mass_g'], [25,75])\n",
        "print(quartile_1)\n",
        "print(quartile_3)\n",
        "iqr = quartile_3 = quartile_1\n",
        "upper_whis = quartile_3 + 1.5*iqr\n",
        "lower_whis = quartile_1 - 1.5*iqr\n",
        "outliers = df2['body_mass_g'][(df2['body_mass_g'] > upper_whis)|(df2['body_mass_g'] < lower_whis)]\n",
        "print(outliers)\n",
        "print(outliers.index)\n",
        "\n",
        "#이상치 제거\n",
        "drop_outliers = df2.drop(index = outliers.index)\n",
        "print('outliers :', df2.shape)\n",
        "print('Dropt outliers :', drop_outliers.shape)\n",
        "\n",
        "#이상치 대체\n",
        "df2.loc[outliers.index, 'body_mass_g'] = df2['body_mass_g'].dropna().mean()\n",
        "df2.loc[outliers.index, 'body_mass_g']"
      ],
      "metadata": {
        "colab": {
          "base_uri": "https://localhost:8080/"
        },
        "id": "IYsKmLmxQ9Tt",
        "outputId": "e810ccf7-ac53-4b4e-faee-1e7208e38aca"
      },
      "execution_count": 49,
      "outputs": [
        {
          "output_type": "stream",
          "name": "stdout",
          "text": [
            "<class 'pandas.core.frame.DataFrame'>\n",
            "RangeIndex: 344 entries, 0 to 343\n",
            "Data columns (total 7 columns):\n",
            " #   Column             Non-Null Count  Dtype  \n",
            "---  ------             --------------  -----  \n",
            " 0   species            344 non-null    object \n",
            " 1   island             344 non-null    object \n",
            " 2   bill_length_mm     342 non-null    float64\n",
            " 3   bill_depth_mm      342 non-null    float64\n",
            " 4   flipper_length_mm  342 non-null    float64\n",
            " 5   body_mass_g        342 non-null    float64\n",
            " 6   sex                333 non-null    object \n",
            "dtypes: float64(4), object(3)\n",
            "memory usage: 18.9+ KB\n",
            "3550.0\n",
            "4750.0\n",
            "Series([], Name: body_mass_g, dtype: float64)\n",
            "Index([], dtype='int64')\n",
            "outliers : (344, 7)\n",
            "Dropt outliers : (344, 7)\n"
          ]
        },
        {
          "output_type": "execute_result",
          "data": {
            "text/plain": [
              "Series([], Name: body_mass_g, dtype: float64)"
            ]
          },
          "metadata": {},
          "execution_count": 49
        }
      ]
    }
  ]
}