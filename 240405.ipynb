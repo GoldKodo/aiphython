{
  "nbformat": 4,
  "nbformat_minor": 0,
  "metadata": {
    "colab": {
      "provenance": [],
      "authorship_tag": "ABX9TyOMzCJnwqocOEkZhkmnc201",
      "include_colab_link": true
    },
    "kernelspec": {
      "name": "python3",
      "display_name": "Python 3"
    },
    "language_info": {
      "name": "python"
    }
  },
  "cells": [
    {
      "cell_type": "markdown",
      "metadata": {
        "id": "view-in-github",
        "colab_type": "text"
      },
      "source": [
        "<a href=\"https://colab.research.google.com/github/GoldKodo/aiphython/blob/main/240405.ipynb\" target=\"_parent\"><img src=\"https://colab.research.google.com/assets/colab-badge.svg\" alt=\"Open In Colab\"/></a>"
      ]
    },
    {
      "cell_type": "code",
      "execution_count": 11,
      "metadata": {
        "colab": {
          "base_uri": "https://localhost:8080/"
        },
        "id": "w7U9Bm98yQEB",
        "outputId": "a4ed5a0e-80d1-4a2f-fa55-e4a701800554"
      },
      "outputs": [
        {
          "output_type": "stream",
          "name": "stdout",
          "text": [
            "A는 5보다 크다\n",
            "프로그램종료\n"
          ]
        }
      ],
      "source": [
        "a=10\n",
        "if a>5:\n",
        "  print(\"A는 5보다 크다\")\n",
        "  print(\"프로그램종료\")\n"
      ]
    },
    {
      "cell_type": "code",
      "source": [
        "a=5\n",
        "if a>5:\n",
        "  print(\"a는 5보다 크다\")\n",
        "elif a<5:\n",
        "  print(\"a는 5보다 작습니다\")\n",
        "else:\n",
        "  print(\"a는 5다\")\n"
      ],
      "metadata": {
        "colab": {
          "base_uri": "https://localhost:8080/"
        },
        "id": "6JW3Y1Ex5Mmo",
        "outputId": "9ae363b6-3d8d-4f81-a4b8-678adc94077a"
      },
      "execution_count": 30,
      "outputs": [
        {
          "output_type": "stream",
          "name": "stdout",
          "text": [
            "a는 5다\n"
          ]
        }
      ]
    },
    {
      "cell_type": "markdown",
      "source": [
        "###a에 할당된 값의 짝수 홀수 여부를 알려주는 프로그램"
      ],
      "metadata": {
        "id": "A3zqybye8nt7"
      }
    },
    {
      "cell_type": "code",
      "source": [
        "a=2\n",
        "if a%2==0:\n",
        "  print(\"a는 짝수입니다\")\n",
        "elif a%2!=0:\n",
        "  print(\"a는 홀수입니다\")"
      ],
      "metadata": {
        "colab": {
          "base_uri": "https://localhost:8080/"
        },
        "id": "6XI3nk3k5o-C",
        "outputId": "3dfc6fff-08f7-4f24-8c29-2293c93aa9dc"
      },
      "execution_count": 29,
      "outputs": [
        {
          "output_type": "stream",
          "name": "stdout",
          "text": [
            "a는 짝수입니다\n"
          ]
        }
      ]
    },
    {
      "cell_type": "markdown",
      "source": [
        "# 중첩조건문은 둘중 하나 선택할 수 있음"
      ],
      "metadata": {
        "id": "FQVPSO3HBLij"
      }
    },
    {
      "cell_type": "code",
      "source": [
        "a=\n",
        "b=5\n",
        "\n",
        "if a>5:\n",
        "  if b<10:\n",
        "    print(\"a는 5보다 크고 b는 10보다 작습니다\")"
      ],
      "metadata": {
        "colab": {
          "base_uri": "https://localhost:8080/"
        },
        "id": "M_Ab1VGm8hlK",
        "outputId": "d7632348-1b12-4348-8641-8a625370c951"
      },
      "execution_count": 36,
      "outputs": [
        {
          "output_type": "stream",
          "name": "stdout",
          "text": [
            "a는 5보다 크고 b는 10보다 작습니다\n"
          ]
        }
      ]
    },
    {
      "cell_type": "code",
      "source": [
        "a=10\n",
        "b=5\n",
        "if a>5 and b<10:\n",
        "  print(\"a는 5보다 크고 b는 10보다 작다\")\n",
        ""
      ],
      "metadata": {
        "colab": {
          "base_uri": "https://localhost:8080/"
        },
        "id": "icpCoZuD9kaC",
        "outputId": "1228e679-8a04-4feb-8555-1c237b7ba1e9"
      },
      "execution_count": 37,
      "outputs": [
        {
          "output_type": "stream",
          "name": "stdout",
          "text": [
            "a는 5보다 크고 b는 10보다 작다\n"
          ]
        }
      ]
    },
    {
      "cell_type": "markdown",
      "source": [
        "0 ~ 100점 입력받아서\n",
        "90점 이상 A\n",
        "80점 이상 B\n",
        "70점 이상 C\n",
        "60점 이상 D\n",
        "그 외 F\n",
        "프로그램 만드시오\n"
      ],
      "metadata": {
        "id": "aGmxyocnBOwi"
      }
    },
    {
      "cell_type": "code",
      "source": [
        "# 이런 조건문에선 순서가 중요함. 순서가 70 그다음 80 이런식이면 70에서 참이 되서 85여도 C가 나옴\n",
        "\n",
        "a=int(input(\"점수를 입력하세요  \"))\n",
        "\n",
        "if a>100:\n",
        "  print(\"정확한 점수를 입력하세요\")\n",
        "elif a>= 90:\n",
        "  print(\"A입니다\")\n",
        "elif a>= 80:\n",
        "  print(\"B입니다\")\n",
        "elif a>= 70:\n",
        "  print(\"C입니다\")\n",
        "elif a>= 60:\n",
        "  print(\"D입니다\")\n",
        "elif a<0:\n",
        "  print(\"정확한 점수를 입력하세요\")\n",
        "else:\n",
        "  print(\"F입니다\")\n",
        "\n"
      ],
      "metadata": {
        "colab": {
          "base_uri": "https://localhost:8080/"
        },
        "id": "ZbswjypT95MS",
        "outputId": "42b7efb5-a780-405b-acc7-a717e7d69044"
      },
      "execution_count": 60,
      "outputs": [
        {
          "output_type": "stream",
          "name": "stdout",
          "text": [
            "점수를 입력하세요  51\n",
            "F입니다\n"
          ]
        }
      ]
    },
    {
      "cell_type": "code",
      "source": [
        "a = [1,2,3,4,5]\n",
        "for i in a:\n",
        "  print(i,end=',') #i뒤에 end=''가 붙음으로써 밑으로 내려가는게 아니라 옆으로 들어가는 리스트가 됨"
      ],
      "metadata": {
        "colab": {
          "base_uri": "https://localhost:8080/"
        },
        "id": "FyG7dkAbEk9L",
        "outputId": "f84880a3-f494-4e04-bebf-6ff275ef0b57"
      },
      "execution_count": 79,
      "outputs": [
        {
          "output_type": "stream",
          "name": "stdout",
          "text": [
            "1,2,3,4,5,"
          ]
        }
      ]
    },
    {
      "cell_type": "code",
      "source": [
        "# 반복문에 나오는 숫자를 전부 더해보는거 tot라는 변수를 하나 지정한 다음 변수에 += 지정으로 모두 더하게 한다음 프린트\n",
        "a = [1,2,3,4,5]\n",
        "tot=0\n",
        "for i in a:\n",
        "  print(i)\n",
        "  tot+=i\n",
        "print(tot)"
      ],
      "metadata": {
        "colab": {
          "base_uri": "https://localhost:8080/"
        },
        "id": "plTOU24IFsba",
        "outputId": "853d84df-3bec-4160-dec4-cd54e2eceba5"
      },
      "execution_count": 70,
      "outputs": [
        {
          "output_type": "stream",
          "name": "stdout",
          "text": [
            "1\n",
            "2\n",
            "3\n",
            "4\n",
            "5\n",
            "15\n"
          ]
        }
      ]
    },
    {
      "cell_type": "code",
      "source": [
        "for i in range(1,11,2):\n",
        "  print(i)"
      ],
      "metadata": {
        "colab": {
          "base_uri": "https://localhost:8080/"
        },
        "id": "WiWoxSXOGCEy",
        "outputId": "05d0264c-82ba-4572-a49b-c896937179a0"
      },
      "execution_count": 81,
      "outputs": [
        {
          "output_type": "stream",
          "name": "stdout",
          "text": [
            "1\n",
            "3\n",
            "5\n",
            "7\n",
            "9\n"
          ]
        }
      ]
    },
    {
      "cell_type": "code",
      "source": [
        "for i in range(2,101,2,):\n",
        "  print(i)"
      ],
      "metadata": {
        "colab": {
          "base_uri": "https://localhost:8080/"
        },
        "id": "R4cSuz_4HmaM",
        "outputId": "fe790d24-2f67-42a6-ff6a-b69bbca7c213"
      },
      "execution_count": 89,
      "outputs": [
        {
          "output_type": "stream",
          "name": "stdout",
          "text": [
            "2\n",
            "4\n",
            "6\n",
            "8\n",
            "10\n",
            "12\n",
            "14\n",
            "16\n",
            "18\n",
            "20\n",
            "22\n",
            "24\n",
            "26\n",
            "28\n",
            "30\n",
            "32\n",
            "34\n",
            "36\n",
            "38\n",
            "40\n",
            "42\n",
            "44\n",
            "46\n",
            "48\n",
            "50\n",
            "52\n",
            "54\n",
            "56\n",
            "58\n",
            "60\n",
            "62\n",
            "64\n",
            "66\n",
            "68\n",
            "70\n",
            "72\n",
            "74\n",
            "76\n",
            "78\n",
            "80\n",
            "82\n",
            "84\n",
            "86\n",
            "88\n",
            "90\n",
            "92\n",
            "94\n",
            "96\n",
            "98\n",
            "100\n"
          ]
        }
      ]
    },
    {
      "cell_type": "code",
      "source": [
        "# 반복문에서 사용하는 continue / break [ if 사용시 조건에 맞을때 다시 올라가서 수식 진행하는 continue, 나가버리는 break]\n",
        "\n",
        "for i in range(101):\n",
        "  if i%2 == 0:\n",
        "    continue   #짝수면 CONTINUE 라니까 짝수일 때 i에 프린트 안되고 올라가서 다시 수식을 진행함 나머지를 1로 바꾸면 홀수일때 컨티뉴라 짝수만 나올것임\n",
        "  print(i)"
      ],
      "metadata": {
        "colab": {
          "base_uri": "https://localhost:8080/"
        },
        "id": "yAklzTqvJE47",
        "outputId": "c1f9cb3c-05a0-4d36-8628-1e1816061c63"
      },
      "execution_count": 94,
      "outputs": [
        {
          "output_type": "stream",
          "name": "stdout",
          "text": [
            "1\n",
            "3\n",
            "5\n",
            "7\n",
            "9\n",
            "11\n",
            "13\n",
            "15\n",
            "17\n",
            "19\n",
            "21\n",
            "23\n",
            "25\n",
            "27\n",
            "29\n",
            "31\n",
            "33\n",
            "35\n",
            "37\n",
            "39\n",
            "41\n",
            "43\n",
            "45\n",
            "47\n",
            "49\n",
            "51\n",
            "53\n",
            "55\n",
            "57\n",
            "59\n",
            "61\n",
            "63\n",
            "65\n",
            "67\n",
            "69\n",
            "71\n",
            "73\n",
            "75\n",
            "77\n",
            "79\n",
            "81\n",
            "83\n",
            "85\n",
            "87\n",
            "89\n",
            "91\n",
            "93\n",
            "95\n",
            "97\n",
            "99\n"
          ]
        }
      ]
    },
    {
      "cell_type": "code",
      "source": [
        "for i in range(5):\n",
        "  if i%2 == 1:\n",
        "    break\n",
        "  print(i)"
      ],
      "metadata": {
        "colab": {
          "base_uri": "https://localhost:8080/"
        },
        "id": "y2eUz4rDKF8L",
        "outputId": "0eac2812-6571-4e04-a841-319715130143"
      },
      "execution_count": 101,
      "outputs": [
        {
          "output_type": "stream",
          "name": "stdout",
          "text": [
            "0\n"
          ]
        }
      ]
    },
    {
      "cell_type": "code",
      "source": [
        "od=0\n",
        "ev=0\n",
        "for i in range(1,11):\n",
        "  if i%2==0:\n",
        "    ev+=i\n",
        "  else:\n",
        "    od+=i\n",
        "print(od)\n",
        "print(ev)\n"
      ],
      "metadata": {
        "colab": {
          "base_uri": "https://localhost:8080/"
        },
        "id": "KxcEMESQKw2C",
        "outputId": "0d340ae1-b50e-4ec0-ca16-417f3efb0b17"
      },
      "execution_count": 112,
      "outputs": [
        {
          "output_type": "stream",
          "name": "stdout",
          "text": [
            "25\n",
            "30\n"
          ]
        }
      ]
    },
    {
      "cell_type": "code",
      "source": [
        "n<=10000 and n>= 1\n",
        "n=int(input(\"숫자를 입력하시오\"))+1\n",
        "a=0\n",
        "for i in range(n):\n",
        "  a+=i\n",
        "print(a)"
      ],
      "metadata": {
        "colab": {
          "base_uri": "https://localhost:8080/"
        },
        "id": "OygtJCgxNmKb",
        "outputId": "74354a7f-6d10-43aa-bb76-3669a909c61e"
      },
      "execution_count": 123,
      "outputs": [
        {
          "output_type": "stream",
          "name": "stdout",
          "text": [
            "숫자를 입력하시오10\n",
            "55\n"
          ]
        }
      ]
    }
  ]
}