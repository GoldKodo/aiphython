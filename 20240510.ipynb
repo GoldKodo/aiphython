{
  "nbformat": 4,
  "nbformat_minor": 0,
  "metadata": {
    "colab": {
      "provenance": [],
      "authorship_tag": "ABX9TyMbl7JMWAS2yinbexF55+ri",
      "include_colab_link": true
    },
    "kernelspec": {
      "name": "python3",
      "display_name": "Python 3"
    },
    "language_info": {
      "name": "python"
    }
  },
  "cells": [
    {
      "cell_type": "markdown",
      "metadata": {
        "id": "view-in-github",
        "colab_type": "text"
      },
      "source": [
        "<a href=\"https://colab.research.google.com/github/GoldKodo/aiphython/blob/main/20240510.ipynb\" target=\"_parent\"><img src=\"https://colab.research.google.com/assets/colab-badge.svg\" alt=\"Open In Colab\"/></a>"
      ]
    },
    {
      "cell_type": "code",
      "execution_count": null,
      "metadata": {
        "id": "hxccAyWvCY-O"
      },
      "outputs": [],
      "source": [
        "import pandas as pd"
      ]
    },
    {
      "cell_type": "code",
      "source": [
        "import pandas as pd\n",
        "data = [[1, 'Alice'], [2, 'Bob'], [3, 'Charlie']]  # Fixed the quote in 'Charlie'\n",
        "df = pd.DataFrame(data, columns=['ID', 'Name'])  # 열에 이름 넣는 법\n",
        "print(df)"
      ],
      "metadata": {
        "id": "M-lPjItuIoKu"
      },
      "execution_count": null,
      "outputs": []
    },
    {
      "cell_type": "code",
      "source": [
        "import pandas as pd\n",
        "\n",
        "df = pd.read_csv('data.csv', encoding='UTF-8')\n",
        "df"
      ],
      "metadata": {
        "id": "CPy-YWzdJ-9z"
      },
      "execution_count": null,
      "outputs": []
    },
    {
      "cell_type": "code",
      "source": [
        "import pandas as pd\n",
        "\n",
        "url = 'https://raw.githubusercontent.com/Datamanim/pandas/main/lol.csv'\n",
        "df = pd.read_csv(url, delimiter='\\t')\n",
        "df"
      ],
      "metadata": {
        "id": "9Gdda9LsOIqM"
      },
      "execution_count": null,
      "outputs": []
    },
    {
      "cell_type": "code",
      "source": [
        "import pandas as pd\n",
        "# 예제 데이터프레임 생성\n",
        "df = pd.DataFrame({\n",
        "'A': [1, 2, 3, 4, 5],\n",
        "'B': [6, 7, 8, 9, 10]\n",
        "})\n",
        "# 'A' 열에서 값이 3보다 큰지 확인\n",
        "condition_result = df['A'] > 3\n",
        "# 출력\n",
        "print(condition_result)"
      ],
      "metadata": {
        "id": "_HwvprI-c0HV"
      },
      "execution_count": null,
      "outputs": []
    },
    {
      "cell_type": "code",
      "source": [
        "import pandas as pd\n",
        "\n",
        "df= pd.read_excel('data.xlsx')\n",
        "df반이름 = df[['반','이름']]   #묶어서 쓰는 법\n",
        "\n",
        "#국어점수가 80점 이상인 데이터프레임 만들기\n",
        "\n",
        "condition_result = df[df['국어'] >= 80]\n",
        "print(condition_result)\n",
        "\n",
        "#국어점수가 높은사람부터 표현해보자\n",
        "\n",
        "df.sort_values(by=['국어'], ascending = False,inplace = True)\n",
        "\n",
        "#남자여자수\n",
        "df['성별'].value_counts()\n",
        "\n",
        "#개별 칼럼 통계값 ==  데이터프레임명[‘칼럼 이름‘].통계함수명( )\n",
        "#국어의 평균값\n",
        "df['국어'].mean()\n",
        "\n",
        "#그룹별 통계값 ==  데이터프레임명.groupby(‘칼럼명‘).통계함수명( )"
      ],
      "metadata": {
        "id": "tdWXrGVURC9b"
      },
      "execution_count": null,
      "outputs": []
    },
    {
      "cell_type": "code",
      "source": [
        "#결측지 처리\n",
        "#(1) 데이터프레임에서 결측치 확인\n",
        "#• 데이터프레임명.isna( ) : 칼럼의 값이 없으면 True, 값이 있으면 False로 출력\n",
        "#• 데이터프레임명.isna( ).sum( ) : 각 칼럼별 결측치의 개수 집계\n",
        "\n",
        "#(2) 데이터프레임에서 결측치에 값 채우기\n",
        "#• 데이터프레임명.fillna(채울값, inplace=True/False )\n",
        "#• 데이터프레임명.fillna({‘칼럼명’:’채울값’ }, inplace=True/False ) : 칼럼에 있는 결측치를 다른 값으로 채운다.\n",
        "\n",
        "#(3) 데이터프레임에서 결측치가 있는 데이터 삭제\n",
        "#• 데이터프레임명.dropna(axis=0/1, subset=[‘칼럼명’], inplace=True/False ) : axis=0이면 결측치가 있는 행을, axis=1이면 결측치가 있는 칼럼을 삭제한다.\n",
        "# subset으로 특정 칼럼을 지정하면 지정한 칼럼에 결측치가 있는 데이터를 삭제한다.\n",
        "# 하나의 칼럼의 결측치가 있는 행을 날리기\n",
        "df2 = df.dropna(subset=['Col1'])\n",
        "# 데이터프레임에서 결측치가 있는 행을 다날리기\n",
        "df3 = df.dropna()"
      ],
      "metadata": {
        "id": "0QTKDGq9c1xl"
      },
      "execution_count": null,
      "outputs": []
    },
    {
      "cell_type": "code",
      "source": [
        "#데이터프레임 변경\n",
        "#(1) 데이터프레임의 칼럼을 이용하여 새 칼럼 추가\n",
        "\n",
        "import pandas as pd\n",
        "\n",
        "df= pd.read_excel('data.xlsx')\n",
        "df['총점'] = df['국어']+df['수학']\n",
        "\n",
        "#(2) 데이터프레임의 행/칼럼 삭제\n",
        "#• 데이터프레임명.drop(인덱스값/칼럼명, axis=0/1, inplace=False/True ): 인덱스값으로 지정한 행(레코드)/칼럼명으로 지정한 칼럼을 데이터프레임에서 삭제\n",
        "df.drop(index = 1, axis= 0, inplace=True)\n",
        "df.drop(columns = 'Column1', axis=1)"
      ],
      "metadata": {
        "id": "l0UpTZrbd3h2"
      },
      "execution_count": null,
      "outputs": []
    },
    {
      "cell_type": "code",
      "source": [
        "#실습\n",
        "\n",
        "#1. 데이터를 이용하여 데이터프레임 생성\n",
        "df = pd.DataFrame({'학생': [\"John\", \"Alice\", \"Bob\", \"Emily\"], '수학': [90, 87, 78, 92], '영어': [85, 91, 80, 88], '과학': [88, 89, 85, 82]})\n",
        "\n",
        "#2. 생성한 데이터프레임의 요약 통계 정보 출력\n",
        "df.describe()\n",
        "\n",
        "#3. 생성한 데이터프레임에서 '수학'점수가 가장 높은 학생의 정보 출력\n",
        "df수학고수 = df[df['수학']==df['수학'].max()]\n",
        "print(df수학고수)\n",
        "\n",
        "#4. 생성한 데이터프레임에서 '수학'점수가 90점 이상인 학생의 정보 출력\n",
        "df수학90 = df[df['수학']>=90]\n",
        "print(df수학90)"
      ],
      "metadata": {
        "colab": {
          "base_uri": "https://localhost:8080/"
        },
        "id": "WoRbtN4OegUG",
        "outputId": "afcc59da-e45c-4523-b1c1-3926dfce2cb8"
      },
      "execution_count": 87,
      "outputs": [
        {
          "output_type": "stream",
          "name": "stdout",
          "text": [
            "      학생  수학  영어  과학\n",
            "3  Emily  92  88  82\n",
            "      학생  수학  영어  과학\n",
            "0   John  90  85  88\n",
            "3  Emily  92  88  82\n"
          ]
        }
      ]
    },
    {
      "cell_type": "code",
      "source": [
        "#박스오피스 파일을 데이터프레임으로 생성하기\n",
        "import pandas as pd\n",
        "\n",
        "df = pd.read_excel('BoxOffice.xlsx')\n",
        "\n",
        "#1.데이터프레임을 생성한 후 데이터프레임의 정보 출력\n",
        "df.info()\n",
        "\n",
        "#2. 대표국적별 영화 편수 집계\n",
        "df영화편수 = df['대표국적'].value_counts()\n",
        "print(df영화편수)\n",
        "\n",
        "#3. 대표국적이 '영국'인 데이터를 출력하시오\n",
        "df영국 = df[df['대표국적'] == '영국']\n",
        "print(df영국)\n",
        "\n",
        "#4.대표국적별 최상위 순위를 출력하시오.\n",
        "df최상위 = df.groupby('대표국적')['순위'].min()\n",
        "print(df최상위)"
      ],
      "metadata": {
        "colab": {
          "base_uri": "https://localhost:8080/"
        },
        "id": "zdS-OZRQgbDO",
        "outputId": "2dc04e80-6e3b-4560-e85d-142c441fac0f"
      },
      "execution_count": 111,
      "outputs": [
        {
          "output_type": "stream",
          "name": "stdout",
          "text": [
            "<class 'pandas.core.frame.DataFrame'>\n",
            "RangeIndex: 200 entries, 0 to 199\n",
            "Data columns (total 10 columns):\n",
            " #   Column  Non-Null Count  Dtype         \n",
            "---  ------  --------------  -----         \n",
            " 0   순위      200 non-null    int64         \n",
            " 1   영화명     200 non-null    object        \n",
            " 2   개봉일     200 non-null    datetime64[ns]\n",
            " 3   매출액     200 non-null    int64         \n",
            " 4   관객수     200 non-null    int64         \n",
            " 5   스크린수    200 non-null    int64         \n",
            " 6   상영횟수    200 non-null    int64         \n",
            " 7   대표국적    200 non-null    object        \n",
            " 8   국적      200 non-null    object        \n",
            " 9   배급사     200 non-null    object        \n",
            "dtypes: datetime64[ns](1), int64(5), object(4)\n",
            "memory usage: 15.8+ KB\n",
            "대표국적\n",
            "한국    116\n",
            "미국     82\n",
            "일본      1\n",
            "영국      1\n",
            "Name: count, dtype: int64\n",
            "      순위     영화명        개봉일          매출액      관객수  스크린수   상영횟수 대표국적  국적  \\\n",
            "194  195  어바웃 타임 2013-12-05  25312684300  3449451   568  67267   영국  영국   \n",
            "\n",
            "                     배급사  \n",
            "194  유니버설픽쳐스인터내셔널 코리아(유)  \n",
            "대표국적\n",
            "미국      5\n",
            "영국    195\n",
            "일본    172\n",
            "한국      1\n",
            "Name: 순위, dtype: int64\n"
          ]
        }
      ]
    }
  ]
}