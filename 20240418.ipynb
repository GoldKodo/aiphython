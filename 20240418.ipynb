{
  "nbformat": 4,
  "nbformat_minor": 0,
  "metadata": {
    "colab": {
      "provenance": [],
      "authorship_tag": "ABX9TyPjR+Y65VqZXrt5N8e+IOOw",
      "include_colab_link": true
    },
    "kernelspec": {
      "name": "python3",
      "display_name": "Python 3"
    },
    "language_info": {
      "name": "python"
    }
  },
  "cells": [
    {
      "cell_type": "markdown",
      "metadata": {
        "id": "view-in-github",
        "colab_type": "text"
      },
      "source": [
        "<a href=\"https://colab.research.google.com/github/GoldKodo/aiphython/blob/main/20240418.ipynb\" target=\"_parent\"><img src=\"https://colab.research.google.com/assets/colab-badge.svg\" alt=\"Open In Colab\"/></a>"
      ]
    },
    {
      "cell_type": "code",
      "execution_count": 6,
      "metadata": {
        "colab": {
          "base_uri": "https://localhost:8080/"
        },
        "id": "B6x_BCmWXh1Q",
        "outputId": "5878cb09-8a1f-4399-b55f-b71aabaf9c88"
      },
      "outputs": [
        {
          "output_type": "stream",
          "name": "stdout",
          "text": [
            "[20]\n",
            "[20, 30]\n",
            "[10, 20, 30]\n",
            "[10, 20, 30, 40, 50]\n",
            "[10, 20, 30, 40, 50, 1, 2]\n"
          ]
        }
      ],
      "source": [
        "x=[20]\n",
        "print(x)\n",
        "x.append(30)\n",
        "print(x)\n",
        "x.insert(0,10)\n",
        "print(x)\n",
        "x.extend([40,50])\n",
        "print(x)\n",
        "\n",
        "y=[1,2]\n",
        "z=x+y\n",
        "print(z)"
      ]
    },
    {
      "cell_type": "code",
      "source": [
        "x=[10,20,30,40]\n",
        "\n",
        "x.remove(10)\n",
        "print(x)\n",
        "\n",
        "x.pop(2)\n",
        "print(x)\n",
        "\n",
        "x.clear()\n",
        "print(x)"
      ],
      "metadata": {
        "colab": {
          "base_uri": "https://localhost:8080/"
        },
        "id": "BSuDhhC4XqMz",
        "outputId": "821f1d2f-eaf2-4f04-f4a5-77e762fee478"
      },
      "execution_count": 11,
      "outputs": [
        {
          "output_type": "stream",
          "name": "stdout",
          "text": [
            "[20, 30, 40]\n",
            "[20, 30]\n",
            "[]\n"
          ]
        }
      ]
    },
    {
      "cell_type": "code",
      "source": [
        "x=[20,20,30,10,10]\n",
        "\n",
        "print(x.index(20))\n",
        "\n",
        "print(x.count(30))\n",
        "\n",
        "개설과목 = ['컴퓨터','파이썬','인공지능']\n",
        "\n",
        "if '파이썬' in 개설과목:\n",
        "  print('파이썬 과목이 개설 되었습니다.')\n",
        "\n",
        "for 과목 in 개설과목:\n",
        "  print(과목)"
      ],
      "metadata": {
        "colab": {
          "base_uri": "https://localhost:8080/"
        },
        "id": "xM-V-O6vYx32",
        "outputId": "a67a845f-be32-41c8-afe3-43ddb8b805b5"
      },
      "execution_count": 25,
      "outputs": [
        {
          "output_type": "stream",
          "name": "stdout",
          "text": [
            "0\n",
            "1\n",
            "파이썬 과목이 개설 되었습니다.\n",
            "컴퓨터\n",
            "파이썬\n",
            "인공지능\n"
          ]
        }
      ]
    },
    {
      "cell_type": "code",
      "source": [
        "a = [10,20,30]\n",
        "\n",
        "print(\"최솟값:\", min(a))\n",
        "print(\"최댓값:\", max(a))\n",
        "print(\"합 계:\", sum(a))\n",
        "print(\"길이(개수):\", len(a))\n",
        "\n",
        "\n"
      ],
      "metadata": {
        "colab": {
          "base_uri": "https://localhost:8080/"
        },
        "id": "-4V58Z58Z3NR",
        "outputId": "7f944504-861b-4ac7-e199-f366b81ff133"
      },
      "execution_count": 31,
      "outputs": [
        {
          "output_type": "stream",
          "name": "stdout",
          "text": [
            "최솟값: 10\n",
            "최댓값: 30\n",
            "합 계: 60\n",
            "길이(개수): 3\n"
          ]
        }
      ]
    },
    {
      "cell_type": "code",
      "source": [
        "a = ['10', '20', '30']\n",
        "\n",
        "a = map(int, a)\n",
        "print(sum(a))\n",
        "print(a)\n",
        "\n",
        "a= ['10','20','30']\n",
        "a= list(map(int,a))\n",
        "print(a)\n",
        "print(sum(a))\n",
        "\n"
      ],
      "metadata": {
        "colab": {
          "base_uri": "https://localhost:8080/"
        },
        "id": "PGw2uo0yaON4",
        "outputId": "832343e3-758a-44ed-aeca-0bc90207196c"
      },
      "execution_count": 44,
      "outputs": [
        {
          "output_type": "stream",
          "name": "stdout",
          "text": [
            "60\n",
            "<map object at 0x783d73287580>\n",
            "[10, 20, 30]\n",
            "60\n"
          ]
        }
      ]
    },
    {
      "cell_type": "code",
      "source": [
        "[x * x for x in range(5)]"
      ],
      "metadata": {
        "colab": {
          "base_uri": "https://localhost:8080/"
        },
        "id": "wOolvbZbaV37",
        "outputId": "e455ab86-894d-4614-a1c8-f9de3a11a16b"
      },
      "execution_count": 48,
      "outputs": [
        {
          "output_type": "execute_result",
          "data": {
            "text/plain": [
              "[0, 1, 4, 9, 16]"
            ]
          },
          "metadata": {},
          "execution_count": 48
        }
      ]
    },
    {
      "cell_type": "code",
      "source": [
        "[x for x in range(10) if x % 2 == 0 ]"
      ],
      "metadata": {
        "colab": {
          "base_uri": "https://localhost:8080/"
        },
        "id": "-H1UlmEJbH9O",
        "outputId": "f9375a51-8daa-4e28-8624-85a63b5f941c"
      },
      "execution_count": 50,
      "outputs": [
        {
          "output_type": "execute_result",
          "data": {
            "text/plain": [
              "[0, 2, 4, 6, 8]"
            ]
          },
          "metadata": {},
          "execution_count": 50
        }
      ]
    },
    {
      "cell_type": "code",
      "source": [
        "[(x,y) for x in [1,2,3] for y in [3,1,4]]"
      ],
      "metadata": {
        "colab": {
          "base_uri": "https://localhost:8080/"
        },
        "id": "4Xrj6fLgbgNa",
        "outputId": "c212f9cd-5585-41b4-8e36-c7f950a279d9"
      },
      "execution_count": 51,
      "outputs": [
        {
          "output_type": "execute_result",
          "data": {
            "text/plain": [
              "[(1, 3), (1, 1), (1, 4), (2, 3), (2, 1), (2, 4), (3, 3), (3, 1), (3, 4)]"
            ]
          },
          "metadata": {},
          "execution_count": 51
        }
      ]
    },
    {
      "cell_type": "code",
      "source": [
        "score= [[29, 28, 27, 30],\n",
        "        [30, 20, 27, 29],\n",
        "        [23, 25, 29, 30]]\n",
        "\n",
        "print(score)"
      ],
      "metadata": {
        "colab": {
          "base_uri": "https://localhost:8080/"
        },
        "id": "QbZQCyERcvi0",
        "outputId": "98f6c9ac-1391-4eb8-e60d-3b6be7be8a53"
      },
      "execution_count": 60,
      "outputs": [
        {
          "output_type": "stream",
          "name": "stdout",
          "text": [
            "[[29, 28, 27, 30], [30, 20, 27, 29], [23, 25, 29, 30]]\n"
          ]
        }
      ]
    },
    {
      "cell_type": "code",
      "source": [
        "score= [[29, 28, 27, 30],\n",
        "        [30, 20, 27, 29],\n",
        "        [23, 25, 29, 30]]\n",
        "\n",
        "for sc in score:\n",
        "  print(sc)"
      ],
      "metadata": {
        "colab": {
          "base_uri": "https://localhost:8080/"
        },
        "id": "MAK9o2yPdJTu",
        "outputId": "83a67996-ad05-43e7-cc3d-05da9d7e4d6f"
      },
      "execution_count": 59,
      "outputs": [
        {
          "output_type": "stream",
          "name": "stdout",
          "text": [
            "[29, 28, 27, 30]\n",
            "[30, 20, 27, 29]\n",
            "[23, 25, 29, 30]\n"
          ]
        }
      ]
    },
    {
      "cell_type": "code",
      "source": [
        "score= [[29, 28, 27, 30],\n",
        "        [30, 20, 27, 29],\n",
        "        [23, 25, 29, 30]]\n",
        "\n",
        "for r in range(3):\n",
        "  for c in range(4):\n",
        "    print(score[r][c], end= \" \")\n",
        "  print()"
      ],
      "metadata": {
        "colab": {
          "base_uri": "https://localhost:8080/"
        },
        "id": "5BaU4DEVdpqs",
        "outputId": "55fce863-df8f-4716-eaff-ea49cd2cdd48"
      },
      "execution_count": 64,
      "outputs": [
        {
          "output_type": "stream",
          "name": "stdout",
          "text": [
            "29 28 27 30 \n",
            "30 20 27 29 \n",
            "23 25 29 30 \n"
          ]
        }
      ]
    },
    {
      "cell_type": "code",
      "source": [
        "score= [[29, 28, 27, 30],\n",
        "        [30, 20, 27, 29],\n",
        "        [23, 25, 29, 30]]\n",
        "\n",
        "for sc in score:\n",
        "  for c in sc:\n",
        "    print(c, end= \" \")\n",
        "  print()"
      ],
      "metadata": {
        "colab": {
          "base_uri": "https://localhost:8080/"
        },
        "id": "SxPqxplVeIVP",
        "outputId": "9b9d37c9-2414-4af2-9076-f68ccff4fc3d"
      },
      "execution_count": 66,
      "outputs": [
        {
          "output_type": "stream",
          "name": "stdout",
          "text": [
            "29 28 27 30 \n",
            "30 20 27 29 \n",
            "23 25 29 30 \n"
          ]
        }
      ]
    },
    {
      "cell_type": "code",
      "source": [
        "score= [[29, 28, 27, 30],\n",
        "        [30, 20, 27, 29],\n",
        "        [23, 25, 29, 30]]\n",
        "\n",
        "for c1,c2,c3,c4 in score:\n",
        "  print(c1, c3, c2, c4)"
      ],
      "metadata": {
        "colab": {
          "base_uri": "https://localhost:8080/"
        },
        "id": "mq-ua3qiePu5",
        "outputId": "8d412780-6427-47ce-8198-fa7e6a1c2a04"
      },
      "execution_count": 68,
      "outputs": [
        {
          "output_type": "stream",
          "name": "stdout",
          "text": [
            "29 27 28 30\n",
            "30 27 20 29\n",
            "23 29 25 30\n"
          ]
        }
      ]
    },
    {
      "cell_type": "code",
      "source": [
        "days_of_week = (\"mon\",\"tue\",\"wed\",\"thur\",\"fri\",\"sat\",\"sun\")\n",
        "\n",
        "print(days_of_week[0])\n",
        "print(days_of_week)\n",
        "days_of_week[0] = '월요일'"
      ],
      "metadata": {
        "colab": {
          "base_uri": "https://localhost:8080/",
          "height": 221
        },
        "id": "bESPVECtfO9B",
        "outputId": "80a49ab9-eb03-4c4d-b6bf-c8f1cb41c540"
      },
      "execution_count": 72,
      "outputs": [
        {
          "output_type": "stream",
          "name": "stdout",
          "text": [
            "mon\n",
            "('mon', 'tue', 'wed', 'thur', 'fri', 'sat', 'sun')\n"
          ]
        },
        {
          "output_type": "error",
          "ename": "TypeError",
          "evalue": "'tuple' object does not support item assignment",
          "traceback": [
            "\u001b[0;31m---------------------------------------------------------------------------\u001b[0m",
            "\u001b[0;31mTypeError\u001b[0m                                 Traceback (most recent call last)",
            "\u001b[0;32m<ipython-input-72-277067c91683>\u001b[0m in \u001b[0;36m<cell line: 5>\u001b[0;34m()\u001b[0m\n\u001b[1;32m      3\u001b[0m \u001b[0mprint\u001b[0m\u001b[0;34m(\u001b[0m\u001b[0mdays_of_week\u001b[0m\u001b[0;34m[\u001b[0m\u001b[0;36m0\u001b[0m\u001b[0;34m]\u001b[0m\u001b[0;34m)\u001b[0m\u001b[0;34m\u001b[0m\u001b[0;34m\u001b[0m\u001b[0m\n\u001b[1;32m      4\u001b[0m \u001b[0mprint\u001b[0m\u001b[0;34m(\u001b[0m\u001b[0mdays_of_week\u001b[0m\u001b[0;34m)\u001b[0m\u001b[0;34m\u001b[0m\u001b[0;34m\u001b[0m\u001b[0m\n\u001b[0;32m----> 5\u001b[0;31m \u001b[0mdays_of_week\u001b[0m\u001b[0;34m[\u001b[0m\u001b[0;36m0\u001b[0m\u001b[0;34m]\u001b[0m \u001b[0;34m=\u001b[0m \u001b[0;34m'월요일'\u001b[0m\u001b[0;34m\u001b[0m\u001b[0;34m\u001b[0m\u001b[0m\n\u001b[0m",
            "\u001b[0;31mTypeError\u001b[0m: 'tuple' object does not support item assignment"
          ]
        }
      ]
    },
    {
      "cell_type": "code",
      "source": [
        "emails = {\"alice\": \"alice@example.com\", \"bob\": \"bob@example.com\", \"tom\": \"tom@example.com\"}\n",
        "print(emails[\"alice\"])\n",
        "\n",
        "for n in emails :\n",
        "  print(n)\n",
        "\n",
        "  for n in emails :\n",
        "    print(n, emails[n])\n",
        "\n",
        "\n"
      ],
      "metadata": {
        "colab": {
          "base_uri": "https://localhost:8080/"
        },
        "id": "Sri9fcYBfk_I",
        "outputId": "99e61f3b-8109-468c-bc6c-b02699f3980c"
      },
      "execution_count": 79,
      "outputs": [
        {
          "output_type": "stream",
          "name": "stdout",
          "text": [
            "alice@example.com\n",
            "alice\n",
            "alice alice@example.com\n",
            "bob bob@example.com\n",
            "tom tom@example.com\n",
            "bob\n",
            "alice alice@example.com\n",
            "bob bob@example.com\n",
            "tom tom@example.com\n",
            "tom\n",
            "alice alice@example.com\n",
            "bob bob@example.com\n",
            "tom tom@example.com\n"
          ]
        }
      ]
    },
    {
      "cell_type": "code",
      "source": [
        "score = []\n",
        "while True:\n",
        "    a = input(\"학생의 점수를 입력하세요. \")\n",
        "    if a.isdigit():\n",
        "        score.append(int(a))\n",
        "    else:\n",
        "        print(\"입력 데이터 출력 :\",  score)\n",
        "        break\n",
        "total_sc = sum(score)\n",
        "total_stu = len(score)\n",
        "aversc = total_sc / total_stu\n",
        "\n",
        "print(\"합계 :  \", total_sc)\n",
        "print(\"인원수 :  \", total_stu)\n",
        "print(\"평균 :  \", aversc)1"
      ],
      "metadata": {
        "colab": {
          "base_uri": "https://localhost:8080/"
        },
        "id": "sjdenq1egYhN",
        "outputId": "53667de5-5c6f-41c2-c49d-4aaed8810f9d"
      },
      "execution_count": 125,
      "outputs": [
        {
          "output_type": "stream",
          "name": "stdout",
          "text": [
            "학생의 점수를 입력하세요. 50\n",
            "학생의 점수를 입력하세요. 20\n",
            "학생의 점수를 입력하세요. 40\n",
            "학생의 점수를 입력하세요. 10\n",
            "학생의 점수를 입력하세요. ㅌ\n",
            "입력 데이터 출력 : [50, 20, 40, 10]\n",
            "합계 :   120\n",
            "인원수 :   4\n",
            "평균 :   30.0\n"
          ]
        }
      ]
    },
    {
      "cell_type": "code",
      "source": [
        "\n"
      ],
      "metadata": {
        "id": "QUTDvSKIjAaP"
      },
      "execution_count": null,
      "outputs": []
    }
  ]
}