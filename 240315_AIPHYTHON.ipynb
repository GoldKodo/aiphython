{
  "nbformat": 4,
  "nbformat_minor": 0,
  "metadata": {
    "colab": {
      "provenance": []
    },
    "kernelspec": {
      "name": "python3",
      "display_name": "Python 3"
    },
    "language_info": {
      "name": "python"
    }
  },
  "cells": [
    {
      "cell_type": "markdown",
      "source": [
        "####두 수를 입력받아서 합을 출력하는 프로그램"
      ],
      "metadata": {
        "id": "l7eg-iYoAAvL"
      }
    },
    {
      "cell_type": "code",
      "execution_count": 1,
      "metadata": {
        "colab": {
          "base_uri": "https://localhost:8080/"
        },
        "id": "nEkvhrEW-Ycv",
        "outputId": "2e235b59-08f8-4a66-d3cd-8ec3af34aa59"
      },
      "outputs": [
        {
          "output_type": "stream",
          "name": "stdout",
          "text": [
            "두 개의 정수를 입력하세요 5 8\n",
            "두 정수의 합은: 13\n"
          ]
        }
      ],
      "source": [
        "A, B = map(int, input(\"두 개의 정수를 입력하세요 \").split())\n",
        "result = A + B\n",
        "print(\"두 정수의 합은:\", result)"
      ]
    },
    {
      "cell_type": "code",
      "source": [
        "print(\"Hello Phython\")"
      ],
      "metadata": {
        "colab": {
          "base_uri": "https://localhost:8080/"
        },
        "id": "oaXiN8ag_enc",
        "outputId": "5bd3e6f9-64ca-4b06-a38b-9e489559cfe8"
      },
      "execution_count": 4,
      "outputs": [
        {
          "output_type": "stream",
          "name": "stdout",
          "text": [
            "Hello Phython\n"
          ]
        }
      ]
    },
    {
      "cell_type": "code",
      "source": [
        "# Get input from the user\n",
        "a, b = map(int, input(\"Enter two numbers separated by a space: \").split())\n",
        "\n",
        "# Compare the numbers\n",
        "if a > b:\n",
        "  print(\"A is greater than B.\")\n",
        "elif a < b:\n",
        "  print(\"B is greater than A.\")\n",
        "else:\n",
        "  print(\"A and B are equal.\")"
      ],
      "metadata": {
        "colab": {
          "base_uri": "https://localhost:8080/"
        },
        "id": "lreBxTgBALB7",
        "outputId": "9a0fa380-1dfe-4bb4-ab85-9f98a6ae2ed9"
      },
      "execution_count": 5,
      "outputs": [
        {
          "output_type": "stream",
          "name": "stdout",
          "text": [
            "Enter two numbers separated by a space: 43 66\n",
            "B is greater than A.\n"
          ]
        }
      ]
    }
  ]
}