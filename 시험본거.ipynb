{
  "nbformat": 4,
  "nbformat_minor": 0,
  "metadata": {
    "colab": {
      "provenance": [],
      "authorship_tag": "ABX9TyOpEUb+Qr/fEsSRl0D4Si54",
      "include_colab_link": true
    },
    "kernelspec": {
      "name": "python3",
      "display_name": "Python 3"
    },
    "language_info": {
      "name": "python"
    }
  },
  "cells": [
    {
      "cell_type": "markdown",
      "metadata": {
        "id": "view-in-github",
        "colab_type": "text"
      },
      "source": [
        "<a href=\"https://colab.research.google.com/github/GoldKodo/aiphython/blob/main/%EC%8B%9C%ED%97%98%EB%B3%B8%EA%B1%B0.ipynb\" target=\"_parent\"><img src=\"https://colab.research.google.com/assets/colab-badge.svg\" alt=\"Open In Colab\"/></a>"
      ]
    },
    {
      "cell_type": "code",
      "execution_count": 7,
      "metadata": {
        "colab": {
          "base_uri": "https://localhost:8080/"
        },
        "id": "BZhsBylEA4NS",
        "outputId": "dd14f24f-0c72-4f80-e0b5-14aa1610b1a4"
      },
      "outputs": [
        {
          "output_type": "stream",
          "name": "stdout",
          "text": [
            "12 15\n",
            "FAIL\n"
          ]
        }
      ],
      "source": [
        "#두 수를 입력받아서 100점이 넘어가고고 두 점수가 다 40점이 넘으면 pass, 하나가 40 미만이면 그 과목 + fail / 100점이 안되면 fail.\n",
        "\n",
        "a = list(map(int,input().split()))         # 뒤에 스플릿이 나오면 12 15 이런식으로 입력하면 띄워쓰기가 구분을 해줌\n",
        "if sum(a) > 100:             #첫 if절로 a가 100점이 넘었을때를 가정하고 밑에는 세부 조건을 붙임.\n",
        "  if a[0] > 40 and a[1] > 40:    #100점이 넘은 상태 + 둘다 40 이상\n",
        "    print('pass')\n",
        "  elif a[0] < 40:              #100점은 넘었지만 영어가 40이 안됨\n",
        "      print('ENG FAIL')\n",
        "  else:                        #100점은 넘었지만 수학이 40이 안됨.\n",
        "      print('MATH FAIL')\n",
        "else:                            #애초에 100점을 못넘김.\n",
        "  print('FAIL')\n"
      ]
    },
    {
      "cell_type": "code",
      "source": [
        "#다음 리스트에서 확장자가 png나 jpg인 파일명.확장자를 출력하는 파이썬 코드를 작성하세요\n",
        "\n",
        "#입력: 첫째 줄에 숫자 N이 주어진다.\n",
        "#둘째 줄부터 N 줄에는 파일명이 ㅏ나씩 주어진다. (힌트: a=[input() for _ in range()] 또는 map 함수)\n",
        "\n",
        "#sample2\n",
        "9\n",
        "#alpha.hwp\n",
        "#bravo.doc\n",
        "#delta.jpg\n",
        "#echo.png\n",
        "\n",
        "#a=list(map(str,input().split()))\n",
        "n=int(input())\n",
        "a=[input() for _ in range(n)]\n",
        "b=[i for i in a if i.split('.')[-1] == 'jpg' or i.split('.')[-1] == 'png']"
      ],
      "metadata": {
        "colab": {
          "base_uri": "https://localhost:8080/"
        },
        "id": "DIWLrgGLB7IM",
        "outputId": "204e99a2-1603-4869-f14a-f311df278a6e"
      },
      "execution_count": null,
      "outputs": [
        {
          "name": "stdout",
          "output_type": "stream",
          "text": [
            "9\n"
          ]
        }
      ]
    }
  ]
}