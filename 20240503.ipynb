{
  "nbformat": 4,
  "nbformat_minor": 0,
  "metadata": {
    "colab": {
      "provenance": [],
      "authorship_tag": "ABX9TyP9e6CGzysm1+yQ6dviEN7s",
      "include_colab_link": true
    },
    "kernelspec": {
      "name": "python3",
      "display_name": "Python 3"
    },
    "language_info": {
      "name": "python"
    }
  },
  "cells": [
    {
      "cell_type": "markdown",
      "metadata": {
        "id": "view-in-github",
        "colab_type": "text"
      },
      "source": [
        "<a href=\"https://colab.research.google.com/github/GoldKodo/aiphython/blob/main/20240503.ipynb\" target=\"_parent\"><img src=\"https://colab.research.google.com/assets/colab-badge.svg\" alt=\"Open In Colab\"/></a>"
      ]
    },
    {
      "cell_type": "code",
      "execution_count": 1,
      "metadata": {
        "id": "XujoGFk3K6sI"
      },
      "outputs": [],
      "source": [
        "#넘파이 쓰는 이유 ? 큰 배열과 행렬 연산에 필요한 다양한 함수를 제공\n",
        "\n",
        "#넘파이 설치 명령어 : pip install numpy < 파이썬에서\n",
        "\n",
        "#기본 설정 : import numpy as np\n",
        "\n",
        "#넘파이 버전 확인:\n",
        "#import numpy as np  >  as xx == xx라는 별칭으로 쓰겠다\n",
        "#print(np.__version__)\n",
        "\n",
        "#별칭을 사용하는 이유? 코드를 간결하게 만들고 패키지 이름을 줄임\n",
        "\n",
        "#from numpy import function_name >> 모듈에서 특정 함수만 가져옴\n"
      ]
    },
    {
      "cell_type": "code",
      "source": [
        "import numpy as np\n",
        "\n",
        "#np.arange(): 일정한 간격의 값들을 가진 배열 생성\n",
        "arr = np.arange(10)\n",
        "print(arr)\n",
        "\n",
        "arr1 = np.arange(2, 20, 2) # 2부터 19까지, 간격은 2\n",
        "print(arr1)\n",
        "\n",
        "#np.zeros(): 모든 값이 0인 배열 생성 / zeros 대신 ones  는 모든 값이 1인 배열 생성\n",
        "zeros_1d = np.zeros(5)\n",
        "print(zeros_1d)\n",
        "\n",
        "#np.random.rand() = 무작위 값 생성\n",
        "arr_1d = np.random.rand(5)\n",
        "print(arr_1d)\n",
        "\n",
        "#np.linspace(): 지정한 범위 내에서 균일한 간격의 값들을 가진 배열 생성\n",
        "\n",
        "# 0부터 1까지 5개의 값\n",
        "arr2 = np.linspace(0,1,5)\n",
        "print(arr2)"
      ],
      "metadata": {
        "colab": {
          "base_uri": "https://localhost:8080/"
        },
        "id": "Snsk4C9xLDwR",
        "outputId": "0b8b67c3-38ea-4ae8-ab43-98fc2b7aa4b5"
      },
      "execution_count": 2,
      "outputs": [
        {
          "output_type": "stream",
          "name": "stdout",
          "text": [
            "[0 1 2 3 4 5 6 7 8 9]\n",
            "[ 2  4  6  8 10 12 14 16 18]\n",
            "[0. 0. 0. 0. 0.]\n",
            "[0.54917463 0.57294154 0.29222408 0.21836628 0.34856251]\n",
            "[0.   0.25 0.5  0.75 1.  ]\n"
          ]
        }
      ]
    },
    {
      "cell_type": "code",
      "source": [
        "import numpy as np\n",
        "\n",
        "#1부터 10까지(미포함)의 2걸음 크기의 정수값 배열을 생성해보자.\n",
        "arr = np.arange(1, 10, 2)\n",
        "print(arr)\n",
        "#모양이 (3, 4)인 모든 값이 1인 배열을 생성해보자.\n",
        "arr2 = np.ones((3,4))\n",
        "print(arr2)\n",
        "#0과 1사이를 10등분하고자 할 때 등분값 배열을 생성해보자\n",
        "arr3 = np.linspace(0, 1, 10)\n",
        "print(arr3)\n",
        "\n",
        "#배열 속성 출력\n",
        "print(arr2)\n",
        "\n",
        "print('size:', arr2.size) # 배열의 총 항목 개수\n",
        "print('dtype:',arr2.dtype) # 배열의 각 개별 항목의 데이터 타입\n",
        "print('shape:',arr2.shape) # 배열 형태\n",
        "print('ndim:',arr2.ndim) # 배열의 축의 개수\n",
        "\n",
        "#배열 인덱싱\n",
        "arr4 = np.array([[1,2,3],[4,5,6],[7,8,9]])\n",
        "\n",
        "print(arr4[0])\n",
        "#배열명[시작 번호:끝 번호] : 인덱스가 시작 번호부터 (끝 번호-1)까지인 항목\n",
        "print(arr4[0:2])\n",
        "\n",
        "#예제2\n",
        "\n",
        "#A행렬을 생성해보자.\n",
        "A = np.array([[ 1, 2, 3, 4, 5], [ 6, 7, 8, 9, 10], [11, 12, 13, 14, 15], [16, 17, 18, 19, 20], [21, 22, 23, 24, 25]])\n",
        "#A의 모양(shape)을 출력해보자.\n",
        "print(A.shape)\n",
        "#19보다 큰 값을 추출해보자.\n",
        "print(A[A > 19])\n",
        "#슬라이싱을 이용하여 [[1, 2], [6, 7]] 값을 추출해보자\n",
        "print(A[0,0:2], A[1,0:2])\n",
        "#슬라이싱을 이용하여 [[19, 20], [24, 25]] 값을 추출해보자.\n",
        "print(A[3,3:5], A[4,3:5])\n",
        "#슬라이싱을 이용하여 0축의 첫 번째 행과 두 번째 행을 추출해보자.\n",
        "print(A[0:2, :])\n",
        "#슬라이싱을 이용하여 1축의 마지막 열과 마지막 직전 열을 추출해보자.\n",
        "print(A[:, -2:])"
      ],
      "metadata": {
        "colab": {
          "base_uri": "https://localhost:8080/"
        },
        "id": "PFQhNG3Cd9eN",
        "outputId": "b9e1d8cf-e3bc-4f5c-b09c-562ecfb3731e"
      },
      "execution_count": 3,
      "outputs": [
        {
          "output_type": "stream",
          "name": "stdout",
          "text": [
            "[1 3 5 7 9]\n",
            "[[1. 1. 1. 1.]\n",
            " [1. 1. 1. 1.]\n",
            " [1. 1. 1. 1.]]\n",
            "[0.         0.11111111 0.22222222 0.33333333 0.44444444 0.55555556\n",
            " 0.66666667 0.77777778 0.88888889 1.        ]\n",
            "[[1. 1. 1. 1.]\n",
            " [1. 1. 1. 1.]\n",
            " [1. 1. 1. 1.]]\n",
            "size: 12\n",
            "dtype: float64\n",
            "shape: (3, 4)\n",
            "ndim: 2\n",
            "[1 2 3]\n",
            "[[1 2 3]\n",
            " [4 5 6]]\n",
            "(5, 5)\n",
            "[20 21 22 23 24 25]\n",
            "[1 2] [6 7]\n",
            "[19 20] [24 25]\n",
            "[[ 1  2  3  4  5]\n",
            " [ 6  7  8  9 10]]\n",
            "[[ 4  5]\n",
            " [ 9 10]\n",
            " [14 15]\n",
            " [19 20]\n",
            " [24 25]]\n"
          ]
        }
      ]
    },
    {
      "cell_type": "code",
      "source": [
        "import numpy as np\n",
        "#A행렬 만들기\n",
        "A = np.arange(1,37)\n",
        "print(A)\n",
        "B= A.reshape(3,3,4)\n",
        "print(B)\n",
        "#A행렬의 모양과 크기를 출력해보자\n",
        "print(B.shape)\n",
        "print(B.size)\n",
        "#A의 모양을 (3,4,3)로 변경해보자\n",
        "C= B.reshape(3,4,3)\n",
        "print(C)\n",
        "#A를 1차원 배열로 구성해보자\n",
        "D= C.flatten()\n",
        "print(D)"
      ],
      "metadata": {
        "colab": {
          "base_uri": "https://localhost:8080/"
        },
        "id": "0bVhCwYAd-1c",
        "outputId": "690499e2-ab0a-4ec5-b2a0-d0be8af1bf69"
      },
      "execution_count": 14,
      "outputs": [
        {
          "output_type": "stream",
          "name": "stdout",
          "text": [
            "[ 1  2  3  4  5  6  7  8  9 10 11 12 13 14 15 16 17 18 19 20 21 22 23 24\n",
            " 25 26 27 28 29 30 31 32 33 34 35 36]\n",
            "[[[ 1  2  3  4]\n",
            "  [ 5  6  7  8]\n",
            "  [ 9 10 11 12]]\n",
            "\n",
            " [[13 14 15 16]\n",
            "  [17 18 19 20]\n",
            "  [21 22 23 24]]\n",
            "\n",
            " [[25 26 27 28]\n",
            "  [29 30 31 32]\n",
            "  [33 34 35 36]]]\n",
            "(3, 3, 4)\n",
            "36\n",
            "[[[ 1  2  3]\n",
            "  [ 4  5  6]\n",
            "  [ 7  8  9]\n",
            "  [10 11 12]]\n",
            "\n",
            " [[13 14 15]\n",
            "  [16 17 18]\n",
            "  [19 20 21]\n",
            "  [22 23 24]]\n",
            "\n",
            " [[25 26 27]\n",
            "  [28 29 30]\n",
            "  [31 32 33]\n",
            "  [34 35 36]]]\n",
            "[ 1  2  3  4  5  6  7  8  9 10 11 12 13 14 15 16 17 18 19 20 21 22 23 24\n",
            " 25 26 27 28 29 30 31 32 33 34 35 36]\n"
          ]
        }
      ]
    },
    {
      "cell_type": "code",
      "source": [
        "#두 배열에 대한 덧셈, 뺄셈, 크기 비교 연산 결과 출력\n",
        "import numpy as np\n",
        "arr1 = np.arange(1,5)\n",
        "arr2 = np.ones(4)\n",
        "print(arr1 , arr2)\n",
        "print(arr1 + arr2)\n",
        "print(arr1 - arr2)\n",
        "print(arr1 > arr2)"
      ],
      "metadata": {
        "colab": {
          "base_uri": "https://localhost:8080/"
        },
        "id": "74P5AJlheAVt",
        "outputId": "2172ee52-acd0-4c95-d884-bd454e64fe03"
      },
      "execution_count": 5,
      "outputs": [
        {
          "output_type": "stream",
          "name": "stdout",
          "text": [
            "[1 2 3 4] [1. 1. 1. 1.]\n",
            "[2. 3. 4. 5.]\n",
            "[0. 1. 2. 3.]\n",
            "[False  True  True  True]\n"
          ]
        }
      ]
    },
    {
      "cell_type": "code",
      "source": [
        "#배열에 2를 더하고, 2를 곱한 결과를 출력\n",
        "import numpy as np\n",
        "arr1 = np.random.randint(11, size=4)\n",
        "print(arr1)\n",
        "print(arr1 + 2)\n",
        "print(arr1 * 2)\n"
      ],
      "metadata": {
        "colab": {
          "base_uri": "https://localhost:8080/"
        },
        "id": "z7VnghPbeNj8",
        "outputId": "6885696d-d3df-42f3-a45e-2e52a95e509f"
      },
      "execution_count": 6,
      "outputs": [
        {
          "output_type": "stream",
          "name": "stdout",
          "text": [
            "[ 3  1  1 10]\n",
            "[ 5  3  3 12]\n",
            "[ 6  2  2 20]\n"
          ]
        }
      ]
    },
    {
      "cell_type": "code",
      "source": [
        "#‘국어’, ‘영어’라는 이름의 배열 생성\n",
        "import numpy as np\n",
        "국어 = np.array([20,30,60])\n",
        "영어 = np.array([60,40,90])\n",
        "print(국어)\n",
        "print(영어)\n",
        "\n",
        "#학생별 국어 점수와 영어 점수를 더한 총점과 평균을 구한 배열 생성\n",
        "총점 = 국어 + 영어\n",
        "평균 = 총점/2\n",
        "print('총점=',총점)\n",
        "print('평균=',평균)\n",
        "print('국어 평균=',np.mean(국어))"
      ],
      "metadata": {
        "colab": {
          "base_uri": "https://localhost:8080/"
        },
        "id": "yuTiMuENeN9t",
        "outputId": "bcb4c7f2-2128-406b-819f-5901671cf540"
      },
      "execution_count": 10,
      "outputs": [
        {
          "output_type": "stream",
          "name": "stdout",
          "text": [
            "[20 30 60]\n",
            "[60 40 90]\n",
            "총점= [ 80  70 150]\n",
            "평균= [40. 35. 75.]\n",
            "국어 평균= 36.666666666666664\n"
          ]
        }
      ]
    },
    {
      "cell_type": "code",
      "source": [
        "\n"
      ],
      "metadata": {
        "id": "F5KcObRseSCM"
      },
      "execution_count": null,
      "outputs": []
    }
  ]
}